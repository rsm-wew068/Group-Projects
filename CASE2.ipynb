{
 "cells": [
  {
   "cell_type": "code",
   "execution_count": 1,
   "metadata": {},
   "outputs": [],
   "source": [
    "import pandas as pd\n",
    "import matplotlib.pyplot as plt\n",
    "import seaborn as sns\n",
    "from math import sqrt\n",
    "from scipy.stats import norm\n",
    "from scipy.stats import ttest_ind"
   ]
  },
  {
   "cell_type": "code",
   "execution_count": 2,
   "metadata": {},
   "outputs": [
    {
     "name": "stdout",
     "output_type": "stream",
     "text": [
      "      Condition  NumberSold  Riders  MerchandiseRevenues\n",
      "0            FR          77   12663              4592.41\n",
      "1            FR          63   15561              6688.57\n",
      "2    FR Charity          79   14796              6476.78\n",
      "3    FR Charity         101   15796              5845.94\n",
      "4          NYOP        1137   14077              4845.27\n",
      "5          NYOP        1233   14186              7038.63\n",
      "6  NYOP Charity         539   12227              5690.59\n",
      "7  NYOP Charity         628   13741              6003.44\n",
      "8  NYOP Charity         626   18117              8557.47\n",
      "  Condition  Number  Price\n",
      "0      NYOP       1   1.00\n",
      "1      NYOP       1   1.00\n",
      "2      NYOP       1   0.01\n",
      "3      NYOP       1   0.10\n",
      "4      NYOP       1   0.01\n"
     ]
    }
   ],
   "source": [
    "# read files\n",
    "sales = pd.read_csv('Sales.csv')\n",
    "NYOP = pd.read_csv('NYOP.csv')\n",
    "print(sales)\n",
    "print(NYOP.head())"
   ]
  },
  {
   "cell_type": "markdown",
   "metadata": {},
   "source": [
    "# Analysis #1 Flat Rate Pricing"
   ]
  },
  {
   "cell_type": "code",
   "execution_count": 3,
   "metadata": {},
   "outputs": [
    {
     "name": "stdout",
     "output_type": "stream",
     "text": [
      "The proportion of FR purchases is 0.00496031746031746.\n",
      "The proportion of FR Charity purchases is 0.005883891213389121.\n"
     ]
    }
   ],
   "source": [
    "# Filter the data for FR and FR Charity conditions\n",
    "fr_data = sales[sales['Condition'] == 'FR']\n",
    "fr_charity_data = sales[sales['Condition'] == 'FR Charity']\n",
    "\n",
    "# Calculate total purchases and riders for both conditions\n",
    "fr_total_sold = fr_data['NumberSold'].sum()\n",
    "fr_total_riders = fr_data['Riders'].sum()\n",
    "\n",
    "fr_c_total_sold = fr_charity_data['NumberSold'].sum()\n",
    "fr_c_total_riders = fr_charity_data['Riders'].sum()\n",
    "\n",
    "# Calculate the proportion of purchases\n",
    "fr_p = fr_total_sold / fr_total_riders\n",
    "fr_c_p = fr_c_total_sold/fr_c_total_riders\n",
    "\n",
    "print(f'The proportion of FR purchases is {fr_p}.')\n",
    "print(f'The proportion of FR Charity purchases is {fr_c_p}.')"
   ]
  },
  {
   "cell_type": "markdown",
   "metadata": {},
   "source": [
    "### 1a) Hypotheses:\n",
    "Null Hypothesis (H₀): There is no difference in the proportion of purchases between FR and FR Charity (p₁ = p₂).\n",
    "\n",
    "Alternative Hypothesis (H₁): There is a difference in the proportion of purchases between FR and FR Charity (p₁ ≠ p₂).\n"
   ]
  },
  {
   "cell_type": "markdown",
   "metadata": {},
   "source": [
    "### 1b) Test Statistic"
   ]
  },
  {
   "cell_type": "code",
   "execution_count": 4,
   "metadata": {},
   "outputs": [
    {
     "name": "stdout",
     "output_type": "stream",
     "text": [
      "The test statistic is -1.5264554280529021.\n"
     ]
    }
   ],
   "source": [
    "# According to the formula\n",
    "z_1 = (fr_p - fr_c_p)/sqrt((fr_p*(1 - fr_p))/fr_total_riders + fr_c_p*(1 - fr_c_p)/fr_c_total_riders)\n",
    "print(f'The test statistic is {z_1}.')"
   ]
  },
  {
   "cell_type": "markdown",
   "metadata": {},
   "source": [
    "### 1c) p-value"
   ]
  },
  {
   "cell_type": "code",
   "execution_count": 5,
   "metadata": {},
   "outputs": [
    {
     "name": "stdout",
     "output_type": "stream",
     "text": [
      "The p-value is 0.12689648269385967.\n"
     ]
    }
   ],
   "source": [
    "# Calculate the p-value for a two-tailed test\n",
    "p_value_1 = 2 * (1 - norm.cdf(abs(z_1)))\n",
    "print(f'The p-value is {p_value_1}.')"
   ]
  },
  {
   "cell_type": "markdown",
   "metadata": {},
   "source": [
    "### 1d) Interpretation\n",
    "At the 5% significance level (α = 0.05), we compare the p-value (0.1269) with α. Since 0.1269 > 0.05, we fail to reject the null hypothesis. This means that there is no statistically significant difference in the proportion of purchases between the FR and FR Charity conditions."
   ]
  },
  {
   "cell_type": "markdown",
   "metadata": {},
   "source": [
    "# Analysis #2 NYOP Pricing "
   ]
  },
  {
   "cell_type": "code",
   "execution_count": 6,
   "metadata": {},
   "outputs": [
    {
     "name": "stdout",
     "output_type": "stream",
     "text": [
      "The proportion of NYOP purchases is 0.08385521706825178.\n",
      "The proportion of NYOP Charity purchases is 0.04067143019167517.\n"
     ]
    }
   ],
   "source": [
    "# Filter the data for NYOP and NYOP Charity conditions\n",
    "nyop_data = sales[sales['Condition'] == 'NYOP']\n",
    "nyop_charity_data = sales[sales['Condition'] == 'NYOP Charity']\n",
    "\n",
    "# Calculate total purchases and riders for both conditions\n",
    "nyop_total_sold = nyop_data['NumberSold'].sum()\n",
    "nyop_total_riders = nyop_data['Riders'].sum()\n",
    "\n",
    "nyop_c_total_sold = nyop_charity_data['NumberSold'].sum()\n",
    "nyop_c_total_riders = nyop_charity_data['Riders'].sum()\n",
    "\n",
    "# Calculate the proportion of purchases\n",
    "nyop_p = nyop_total_sold / nyop_total_riders\n",
    "nyop_c_p = nyop_c_total_sold/nyop_c_total_riders\n",
    "\n",
    "print(f'The proportion of NYOP purchases is {nyop_p}.')\n",
    "print(f'The proportion of NYOP Charity purchases is {nyop_c_p}.')"
   ]
  },
  {
   "cell_type": "markdown",
   "metadata": {},
   "source": [
    "### 2a) Hypotheses:\n",
    "Null Hypothesis (H₀): There is no difference in the proportion of purchases between NYOP and NYOP Charity (nyop_p = nyop_c_p).\n",
    "\n",
    "Alternative Hypothesis (H₁): There is a difference in the proportion of purchases between NYOP and NYOP Charity (nyop_p ≠ nyop_c_p)."
   ]
  },
  {
   "cell_type": "markdown",
   "metadata": {},
   "source": [
    "### 2b) Test Statistic"
   ]
  },
  {
   "cell_type": "code",
   "execution_count": 7,
   "metadata": {},
   "outputs": [
    {
     "name": "stdout",
     "output_type": "stream",
     "text": [
      "The test statistic is 22.749707261972425.\n"
     ]
    }
   ],
   "source": [
    "# According to the formula\n",
    "z_2 = (nyop_p - nyop_c_p)/sqrt((nyop_p*(1 - nyop_p))/nyop_total_riders + nyop_c_p*(1 - nyop_c_p)/nyop_c_total_riders)\n",
    "print(f'The test statistic is {z_2}.')"
   ]
  },
  {
   "cell_type": "markdown",
   "metadata": {},
   "source": [
    "### 2c) p-value"
   ]
  },
  {
   "cell_type": "code",
   "execution_count": 8,
   "metadata": {},
   "outputs": [
    {
     "name": "stdout",
     "output_type": "stream",
     "text": [
      "The p-value is 0.0.\n"
     ]
    }
   ],
   "source": [
    "# Calculate the p-value for a two-tailed test\n",
    "p_value_2 = 2 * (1 - norm.cdf(abs(z_2)))\n",
    "print(f'The p-value is {p_value_2}.')"
   ]
  },
  {
   "cell_type": "markdown",
   "metadata": {},
   "source": [
    "### 2d) Interpretation\n",
    "Given the extremely small p-value (essentially 0), we reject the null hypothesis. This means there is a statistically significant difference in the proportion of purchases between the NYOP and NYOP Charity conditions."
   ]
  },
  {
   "cell_type": "markdown",
   "metadata": {},
   "source": [
    "# Analysis #3 NYOP unit price"
   ]
  },
  {
   "cell_type": "markdown",
   "metadata": {},
   "source": [
    "### 3a) Modify NYOP.csv"
   ]
  },
  {
   "cell_type": "code",
   "execution_count": 9,
   "metadata": {},
   "outputs": [],
   "source": [
    "nyop_data = NYOP\n",
    "\n",
    "# Create UnitPrice by dividing Price by Number\n",
    "nyop_data['UnitPrice'] = nyop_data['Price'] / nyop_data['Number']\n",
    "\n",
    "# Change the 'Number' column to a categorical type\n",
    "nyop_data['Number'] = nyop_data['Number'].astype('category')"
   ]
  },
  {
   "cell_type": "code",
   "execution_count": 10,
   "metadata": {},
   "outputs": [
    {
     "name": "stdout",
     "output_type": "stream",
     "text": [
      "  Condition Number  Price  UnitPrice\n",
      "0      NYOP      1   1.00       1.00\n",
      "1      NYOP      1   1.00       1.00\n",
      "2      NYOP      1   0.01       0.01\n",
      "3      NYOP      1   0.10       0.10\n",
      "4      NYOP      1   0.01       0.01\n"
     ]
    }
   ],
   "source": [
    "print(nyop_data.head())"
   ]
  },
  {
   "cell_type": "markdown",
   "metadata": {},
   "source": [
    "### 3b) BOX PLOTS and Interpretation"
   ]
  },
  {
   "cell_type": "code",
   "execution_count": 20,
   "metadata": {},
   "outputs": [
    {
     "data": {
      "text/plain": [
       "<Figure size 1000x500 with 0 Axes>"
      ]
     },
     "metadata": {},
     "output_type": "display_data"
    },
    {
     "data": {
      "image/png": "[encoded data removed]",
      "text/plain": [
       "<Figure size 640x480 with 1 Axes>"
      ]
     },
     "metadata": {},
     "output_type": "display_data"
    },
    {
     "data": {
      "text/plain": [
       "<Figure size 1000x500 with 0 Axes>"
      ]
     },
     "metadata": {},
     "output_type": "display_data"
    },
    {
     "data": {
      "image/png": "[encoded data removed]",
      "text/plain": [
       "<Figure size 640x480 with 1 Axes>"
      ]
     },
     "metadata": {},
     "output_type": "display_data"
    }
   ],
   "source": [
    "# b. Visualize both Price and UnitPrice against the factor variable, Number by creating box plots and interpreting them.\n",
    "import matplotlib.pyplot as plt\n",
    "\n",
    "# Visualize 'Price' against 'Number'\n",
    "plt.figure(figsize=(10, 5))\n",
    "nyop_data.boxplot(column='Price', by='Number', patch_artist = True, boxprops = dict(facecolor = \"lightpink\", color = \"red\"))\n",
    "plt.title('Price vs. Number of Photos Purchased')\n",
    "plt.suptitle('')\n",
    "plt.ylabel('Price')\n",
    "plt.show()\n",
    "\n",
    "# Visualize 'UnitPrice' against 'Number'\n",
    "plt.figure(figsize=(10, 5))\n",
    "nyop_data.boxplot(column='UnitPrice', by='Number', patch_artist = True, boxprops = dict(facecolor = \"lightpink\", color = \"red\"))\n",
    "plt.title('Unit Price vs. Number of Photos Purchased')\n",
    "plt.suptitle('')\n",
    "plt.ylabel('Unit Price')\n",
    "plt.show()\n"
   ]
  },
  {
   "cell_type": "markdown",
   "metadata": {},
   "source": [
    "For the Price vs. Number of pictures, the price generally increases with the number of pictures, but there are many outliers, especially for smaller purchases.\n",
    "\n",
    "For the UnitPrice vs. Number of pictures, the unit price decreases as more pictures are purchased, which is expected due to bulk purchasing or discounts. There are still a few outliers, but the overall trend is downward."
   ]
  },
  {
   "cell_type": "markdown",
   "metadata": {},
   "source": [
    "### 3c) Calculate mean price"
   ]
  },
  {
   "cell_type": "code",
   "execution_count": 12,
   "metadata": {},
   "outputs": [
    {
     "name": "stdout",
     "output_type": "stream",
     "text": [
      "The avg unit price for NYOP is 1.0404387568555757.\n",
      "The avg unit price for NYOP Charity is 5.6804804392587505.\n"
     ]
    }
   ],
   "source": [
    "nyop_avg_unit_price = nyop_data[nyop_data['Condition'] == 'NYOP']['UnitPrice'].mean()\n",
    "nyop_charity_avg_unit_price = nyop_data[nyop_data['Condition'] == 'NYOP Charity']['UnitPrice'].mean()\n",
    "print(f'The avg unit price for NYOP is {nyop_avg_unit_price}.')\n",
    "print(f'The avg unit price for NYOP Charity is {nyop_charity_avg_unit_price}.')"
   ]
  },
  {
   "cell_type": "markdown",
   "metadata": {},
   "source": [
    "### 3d) Hypotheses\n",
    "Null Hypothesis (H₀): The average unit prices for NYOP and NYOP Charity are equal. (mu1 = mu2)\n",
    "\n",
    "Alternative Hypothesis (H₁): The average unit prices for NYOP and NYOP Charity are different. (mu1 ≠ mu2)"
   ]
  },
  {
   "cell_type": "markdown",
   "metadata": {},
   "source": [
    "### 3e) Pyrsm test"
   ]
  },
  {
   "cell_type": "code",
   "execution_count": 13,
   "metadata": {},
   "outputs": [
    {
     "name": "stdout",
     "output_type": "stream",
     "text": [
      "Pairwise mean comparisons (t-test)\n",
      "Data      : nyop_data\n",
      "Variables : Condition, UnitPrice\n",
      "Samples   : independent\n",
      "Confidence: 0.95\n",
      "Adjustment: None\n",
      "   Condition  mean    n  n_missing    sd    se    me\n",
      "        NYOP  1.04 1641          0 1.305 0.032 0.063\n",
      "NYOP Charity  5.68 1457          0 4.670 0.122 0.240\n",
      "          Null hyp.                      Alt. hyp.  diff p.value    \n",
      "NYOP = NYOP Charity NYOP not equal to NYOP Charity -4.64  < .001 ***\n",
      "\n",
      "Signif. codes:  0 '***' 0.001 '**' 0.01 '*' 0.05 '.' 0.1 ' ' 1\n"
     ]
    }
   ],
   "source": [
    "# What is the likelihood to make either a Type I or Type II error based on your conclusion?\n",
    "import pyrsm as rsm\n",
    "\n",
    "cm = rsm.basics.compare_means(\n",
    "    data={\"nyop_data\": nyop_data},\n",
    "    var1=\"Condition\",  # NYOP and NYOP Charity conditions\n",
    "    var2=\"UnitPrice\",  # UnitPrice is the variable to compare\n",
    "    alt_hyp=\"two-sided\"  # Two-sided hypothesis\n",
    ")\n",
    "\n",
    "# Get the summary of the results\n",
    "cm.summary()"
   ]
  },
  {
   "cell_type": "markdown",
   "metadata": {},
   "source": [
    "### 3f) Difference in mean"
   ]
  },
  {
   "cell_type": "code",
   "execution_count": 23,
   "metadata": {},
   "outputs": [
    {
     "name": "stdout",
     "output_type": "stream",
     "text": [
      "Pairwise mean comparisons (t-test)\n",
      "Data      : one_picture\n",
      "Variables : Condition, UnitPrice\n",
      "Samples   : independent\n",
      "Confidence: 0.95\n",
      "Adjustment: None\n",
      "   Condition  mean    n  n_missing    sd    se    me\n",
      "        NYOP 1.177 1162          0 1.432 0.042 0.082\n",
      "NYOP Charity 5.941 1203          0 4.830 0.139 0.273\n",
      "          Null hyp.                      Alt. hyp.   diff p.value    \n",
      "NYOP = NYOP Charity NYOP not equal to NYOP Charity -4.765  < .001 ***\n",
      "\n",
      "Signif. codes:  0 '***' 0.001 '**' 0.01 '*' 0.05 '.' 0.1 ' ' 1\n"
     ]
    }
   ],
   "source": [
    "# Filter the data for riders who purchased exactly 1 picture\n",
    "one_picture = nyop_data[nyop_data['Number'] == 1]\n",
    "\n",
    "# Compare means for people who purchased 1 picture\n",
    "cm_one = rsm.basics.compare_means(\n",
    "    data={\"one_picture\": one_picture},\n",
    "    var1=\"Condition\",  # NYOP vs NYOP Charity for 1 picture\n",
    "    var2=\"UnitPrice\",\n",
    "    alt_hyp=\"two-sided\"\n",
    ")\n",
    "cm_one.summary() "
   ]
  },
  {
   "cell_type": "code",
   "execution_count": 22,
   "metadata": {},
   "outputs": [
    {
     "name": "stdout",
     "output_type": "stream",
     "text": [
      "Pairwise mean comparisons (t-test)\n",
      "Data      : six_pictures\n",
      "Variables : Condition, UnitPrice\n",
      "Samples   : independent\n",
      "Confidence: 0.95\n",
      "Adjustment: None\n",
      "   Condition  mean  n  n_missing    sd    se    me\n",
      "        NYOP 0.495  6          0 0.615 0.251 0.646\n",
      "NYOP Charity 1.970  3          0 1.795 1.036 4.459\n",
      "          Null hyp.                      Alt. hyp.   diff p.value  \n",
      "NYOP = NYOP Charity NYOP not equal to NYOP Charity -1.475   0.288  \n",
      "\n",
      "Signif. codes:  0 '***' 0.001 '**' 0.01 '*' 0.05 '.' 0.1 ' ' 1\n"
     ]
    }
   ],
   "source": [
    "# Filter the data for riders who purchased exactly 6 pictures\n",
    "six_pictures = nyop_data[nyop_data['Number'] == 6]\n",
    "\n",
    "# Compare means for people who purchased 6 pictures\n",
    "cm_six = rsm.basics.compare_means(\n",
    "    data={\"six_pictures\": six_pictures},\n",
    "    var1=\"Condition\",  # NYOP vs NYOP Charity for 6 pictures\n",
    "    var2=\"UnitPrice\",\n",
    "    alt_hyp=\"two-sided\"\n",
    ")\n",
    "cm_six.summary() "
   ]
  },
  {
   "cell_type": "markdown",
   "metadata": {},
   "source": [
    "### 3g) Calculated by hand"
   ]
  },
  {
   "cell_type": "code",
   "execution_count": 29,
   "metadata": {},
   "outputs": [
    {
     "name": "stdout",
     "output_type": "stream",
     "text": [
      "For NYOP pricing strategy, average Unit Price for people who purchased 6 pictures: 0.49499999999999994\n",
      "For NYOP Charity pricing strategy, average Unit Price for people who purchased 1 picture: 1.97\n"
     ]
    }
   ],
   "source": [
    "# Filter data for people who purchased 1 picture and 6 pictures for NYOP and NYOP Charity\n",
    "nyop_six_pictures_data = nyop_data[(nyop_data['Number'] == 6) & (nyop_data['Condition'] == 'NYOP')]\n",
    "\n",
    "nyop_c_six_pictures_data = nyop_data[(nyop_data['Number'] == 6) & (nyop_data['Condition'] == 'NYOP Charity')]\n",
    "\n",
    "# Calculate the average UnitPrice for both groups\n",
    "nyop_six_pictures_avg_price = nyop_six_pictures_data['UnitPrice'].mean()\n",
    "\n",
    "nyop_c_six_pictures_avg_price = nyop_c_six_pictures_data['UnitPrice'].mean()\n",
    "\n",
    "# Output the results for comparison\n",
    "print(f\"For NYOP pricing strategy, average Unit Price for people who purchased 6 pictures: {nyop_six_pictures_avg_price}\")\n",
    "print(f\"For NYOP Charity pricing strategy, average Unit Price for people who purchased 1 picture: {nyop_c_six_pictures_avg_price}\")"
   ]
  },
  {
   "cell_type": "markdown",
   "metadata": {},
   "source": [
    "The analysis by hand for the group that purchased 6 pictures are the same as those produced above. Because we use the whole dataset, we avoid the problems associated with small sample sizes, the means and variances computed from the full data are actual parameters of the population, not just estimates based on a sample. "
   ]
  },
  {
   "cell_type": "markdown",
   "metadata": {},
   "source": [
    "# Analysis #4 Economics"
   ]
  },
  {
   "cell_type": "markdown",
   "metadata": {},
   "source": [
    "### 4a） Profit of the four pricing strategies"
   ]
  },
  {
   "cell_type": "code",
   "execution_count": 15,
   "metadata": {},
   "outputs": [
    {
     "data": {
      "text/html": [
       "<div>\n",
       "<style scoped>\n",
       "    .dataframe tbody tr th:only-of-type {\n",
       "        vertical-align: middle;\n",
       "    }\n",
       "\n",
       "    .dataframe tbody tr th {\n",
       "        vertical-align: top;\n",
       "    }\n",
       "\n",
       "    .dataframe thead th {\n",
       "        text-align: right;\n",
       "    }\n",
       "</style>\n",
       "<table border=\"1\" class=\"dataframe\">\n",
       "  <thead>\n",
       "    <tr style=\"text-align: right;\">\n",
       "      <th></th>\n",
       "      <th>Condition</th>\n",
       "      <th>Number</th>\n",
       "      <th>Price</th>\n",
       "    </tr>\n",
       "  </thead>\n",
       "  <tbody>\n",
       "    <tr>\n",
       "      <th>0</th>\n",
       "      <td>NYOP</td>\n",
       "      <td>1</td>\n",
       "      <td>1.00</td>\n",
       "    </tr>\n",
       "    <tr>\n",
       "      <th>1</th>\n",
       "      <td>NYOP</td>\n",
       "      <td>1</td>\n",
       "      <td>1.00</td>\n",
       "    </tr>\n",
       "    <tr>\n",
       "      <th>2</th>\n",
       "      <td>NYOP</td>\n",
       "      <td>1</td>\n",
       "      <td>0.01</td>\n",
       "    </tr>\n",
       "    <tr>\n",
       "      <th>3</th>\n",
       "      <td>NYOP</td>\n",
       "      <td>1</td>\n",
       "      <td>0.10</td>\n",
       "    </tr>\n",
       "    <tr>\n",
       "      <th>4</th>\n",
       "      <td>NYOP</td>\n",
       "      <td>1</td>\n",
       "      <td>0.01</td>\n",
       "    </tr>\n",
       "    <tr>\n",
       "      <th>...</th>\n",
       "      <td>...</td>\n",
       "      <td>...</td>\n",
       "      <td>...</td>\n",
       "    </tr>\n",
       "    <tr>\n",
       "      <th>3093</th>\n",
       "      <td>NYOP Charity</td>\n",
       "      <td>1</td>\n",
       "      <td>9.38</td>\n",
       "    </tr>\n",
       "    <tr>\n",
       "      <th>3094</th>\n",
       "      <td>NYOP Charity</td>\n",
       "      <td>1</td>\n",
       "      <td>1.00</td>\n",
       "    </tr>\n",
       "    <tr>\n",
       "      <th>3095</th>\n",
       "      <td>NYOP Charity</td>\n",
       "      <td>1</td>\n",
       "      <td>0.93</td>\n",
       "    </tr>\n",
       "    <tr>\n",
       "      <th>3096</th>\n",
       "      <td>NYOP Charity</td>\n",
       "      <td>1</td>\n",
       "      <td>9.38</td>\n",
       "    </tr>\n",
       "    <tr>\n",
       "      <th>3097</th>\n",
       "      <td>NYOP Charity</td>\n",
       "      <td>1</td>\n",
       "      <td>1.87</td>\n",
       "    </tr>\n",
       "  </tbody>\n",
       "</table>\n",
       "<p>3098 rows × 3 columns</p>\n",
       "</div>"
      ],
      "text/plain": [
       "         Condition  Number  Price\n",
       "0             NYOP       1   1.00\n",
       "1             NYOP       1   1.00\n",
       "2             NYOP       1   0.01\n",
       "3             NYOP       1   0.10\n",
       "4             NYOP       1   0.01\n",
       "...            ...     ...    ...\n",
       "3093  NYOP Charity       1   9.38\n",
       "3094  NYOP Charity       1   1.00\n",
       "3095  NYOP Charity       1   0.93\n",
       "3096  NYOP Charity       1   9.38\n",
       "3097  NYOP Charity       1   1.87\n",
       "\n",
       "[3098 rows x 3 columns]"
      ]
     },
     "execution_count": 15,
     "metadata": {},
     "output_type": "execute_result"
    }
   ],
   "source": [
    "nyop = pd.read_csv('NYOP.csv')\n",
    "nyop"
   ]
  },
  {
   "cell_type": "code",
   "execution_count": 16,
   "metadata": {},
   "outputs": [
    {
     "name": "stdout",
     "output_type": "stream",
     "text": [
      "2175.8 9616.310000000001\n"
     ]
    }
   ],
   "source": [
    "# Total sales for NYOP and NYOP Charity. \n",
    "nyop_total_sale = nyop[nyop['Condition'] == 'NYOP']['Price'].sum()\n",
    "nyop_c_total_sale = nyop[nyop['Condition'] == 'NYOP Charity']['Price'].sum()\n",
    "print(nyop_total_sale, nyop_c_total_sale)"
   ]
  },
  {
   "cell_type": "code",
   "execution_count": 17,
   "metadata": {},
   "outputs": [
    {
     "name": "stdout",
     "output_type": "stream",
     "text": [
      "822.5 528.75 -334.0999999999999 1244.1183333333336\n"
     ]
    }
   ],
   "source": [
    "# Calculate each daily profit\n",
    "fr_daily_profit = fr_total_sold * (12.95 - 1.2) / 2\n",
    "fr_c_daily_profit = fr_c_total_sold * (12.95 - 1.2) / 2 / 2\n",
    "nyop_daily_profit = (nyop_total_sale - nyop_total_sold*1.2)/2\n",
    "nyop_c_daily_profit = ncdp = (nyop_c_total_sale - nyop_c_total_sold*1.2)/3/2\n",
    "\n",
    "print(fr_daily_profit, fr_c_daily_profit, nyop_daily_profit, nyop_c_daily_profit)"
   ]
  },
  {
   "cell_type": "markdown",
   "metadata": {},
   "source": [
    "### 4b) Ranking\n",
    "NYOP Charity is the most profitable pricing strategy.\n",
    "\n",
    "The ranking is：#1 NYOP Charity($1244.12), #2 FR($822.5), #3 FR Charity($528.75), #4 NYOP (-$334.10)"
   ]
  },
  {
   "cell_type": "markdown",
   "metadata": {},
   "source": [
    "### 4c) Social profits"
   ]
  },
  {
   "cell_type": "code",
   "execution_count": 18,
   "metadata": {},
   "outputs": [
    {
     "name": "stdout",
     "output_type": "stream",
     "text": [
      "The daily social profit for FR Charity is $528.75, for NYOP Charity is $1244.1183333333336. Still, NYOP Charity strategies is #1.\n"
     ]
    }
   ],
   "source": [
    "# Social profits come from 50% of charity pricing strategies\n",
    "fr_c_daily_social_profit = fr_c_total_sold * (12.95 - 1.2) / 2 / 2\n",
    "nyop_c_daily_social_profit = (nyop_c_total_sale - nyop_c_total_sold*1.2)/3/2\n",
    "print(f'The daily social profit for FR Charity is ${fr_c_daily_social_profit}, for NYOP Charity is ${nyop_c_daily_social_profit}. Still, NYOP Charity strategies is #1.' )"
   ]
  },
  {
   "cell_type": "markdown",
   "metadata": {},
   "source": [
    "### 4d) Whole year social profits from leading strategy"
   ]
  },
  {
   "cell_type": "code",
   "execution_count": 19,
   "metadata": {},
   "outputs": [
    {
     "name": "stdout",
     "output_type": "stream",
     "text": [
      "The whole year social profits from leading strategy is $454103.19166666677. This is $261109.44166666677 more than that of FR charity strategy.\n"
     ]
    }
   ],
   "source": [
    "fr_c_year_social_profit = fr_c_daily_social_profit * 365\n",
    "nyopc_c_year_social_profit = nyop_c_daily_social_profit * 365\n",
    "additional_year_social_profit = nyopc_c_year_social_profit - fr_c_year_social_profit\n",
    "print(f'The whole year social profits from leading strategy is ${nyopc_c_year_social_profit}. This is ${additional_year_social_profit} more than that of FR charity strategy.')"
   ]
  },
  {
   "cell_type": "markdown",
   "metadata": {},
   "source": [
    "### 4e) Merchandise"
   ]
  },
  {
   "cell_type": "code",
   "execution_count": 27,
   "metadata": {},
   "outputs": [],
   "source": [
    "grouped_sales = sales.groupby('Condition').sum()"
   ]
  },
  {
   "cell_type": "code",
   "execution_count": 28,
   "metadata": {},
   "outputs": [
    {
     "data": {
      "text/plain": [
       "Condition\n",
       "FR              0.399695\n",
       "FR Charity      0.402809\n",
       "NYOP            0.420476\n",
       "NYOP Charity    0.459374\n",
       "dtype: float64"
      ]
     },
     "execution_count": 28,
     "metadata": {},
     "output_type": "execute_result"
    }
   ],
   "source": [
    "merchandise_revenue_per_riders = grouped_sales['MerchandiseRevenues'] / grouped_sales['Riders']\n",
    "\n",
    "merchandise_revenue_per_riders\n"
   ]
  },
  {
   "cell_type": "markdown",
   "metadata": {},
   "source": [
    "Total result suggests that increased customers photo revenue does not lead to decreased merchandise revenue. There were almost no differences between in merchandise sales over the same days. Even if it is so, people only spent slightly more, so we can exclude the concern about merchandise sales."
   ]
  }
 ],
 "metadata": {
  "kernelspec": {
   "display_name": "base",
   "language": "python",
   "name": "python3"
  },
  "language_info": {
   "codemirror_mode": {
    "name": "ipython",
    "version": 3
   },
   "file_extension": ".py",
   "mimetype": "text/x-python",
   "name": "python",
   "nbconvert_exporter": "python",
   "pygments_lexer": "ipython3",
   "version": "3.11.9"
  }
 },
 "nbformat": 4,
 "nbformat_minor": 2
}
